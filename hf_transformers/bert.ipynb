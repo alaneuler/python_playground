{
 "cells": [
  {
   "cell_type": "code",
   "execution_count": 1,
   "metadata": {},
   "outputs": [
    {
     "name": "stderr",
     "output_type": "stream",
     "text": [
      "/Users/alaneuler/Playground/python_playground/venv/lib/python3.9/site-packages/tqdm/auto.py:21: TqdmWarning: IProgress not found. Please update jupyter and ipywidgets. See https://ipywidgets.readthedocs.io/en/stable/user_install.html\n",
      "  from .autonotebook import tqdm as notebook_tqdm\n"
     ]
    }
   ],
   "source": [
    "from transformers import AutoModel, AutoTokenizer\n",
    "\n",
    "model_name = \"bert-base-cased\"\n",
    "\n",
    "tokenizer = AutoTokenizer.from_pretrained(model_name)\n",
    "model = AutoModel.from_pretrained(model_name)# .to(\"mps\")"
   ]
  },
  {
   "cell_type": "code",
   "execution_count": 3,
   "metadata": {},
   "outputs": [
    {
     "name": "stdout",
     "output_type": "stream",
     "text": [
      "0.06227898597717285\n",
      "tensor([[[ 0.4534,  0.0048,  0.3021,  ..., -0.2360,  0.3105, -0.3237],\n",
      "         [ 0.6412, -0.7474,  0.4806,  ..., -0.6010, -0.0829, -0.1365],\n",
      "         [ 0.5216, -0.6310, -0.0796,  ..., -0.4593,  0.0232,  0.0280],\n",
      "         [ 0.5493, -0.1544,  0.3992,  ..., -0.7045, -0.0326,  0.0830],\n",
      "         [ 0.3815, -0.3139,  0.0893,  ..., -0.2198, -0.0335,  0.0549],\n",
      "         [ 0.9993, -0.1904, -0.4589,  ..., -0.9520,  0.9027, -0.6858]]],\n",
      "       grad_fn=<NativeLayerNormBackward0>)\n"
     ]
    }
   ],
   "source": [
    "input = tokenizer.encode(\"who are you?\", return_tensors=\"pt\")\n",
    "\n",
    "# input = input.to(\"mps\")\n",
    "# model.to(\"mps\")\n",
    "\n",
    "import time\n",
    "start = time.time()\n",
    "output = model(input, output_attentions=True)\n",
    "print(time.time() - start)\n",
    "print(output.last_hidden_state)"
   ]
  },
  {
   "cell_type": "code",
   "execution_count": 10,
   "metadata": {},
   "outputs": [
    {
     "name": "stderr",
     "output_type": "stream",
     "text": [
      "Some weights of the model checkpoint at bert-base-cased were not used when initializing BertForMaskedLM: ['cls.seq_relationship.bias', 'bert.pooler.dense.weight', 'cls.seq_relationship.weight', 'bert.pooler.dense.bias']\n",
      "- This IS expected if you are initializing BertForMaskedLM from the checkpoint of a model trained on another task or with another architecture (e.g. initializing a BertForSequenceClassification model from a BertForPreTraining model).\n",
      "- This IS NOT expected if you are initializing BertForMaskedLM from the checkpoint of a model that you expect to be exactly identical (initializing a BertForSequenceClassification model from a BertForSequenceClassification model).\n"
     ]
    }
   ],
   "source": [
    "from transformers import AutoModelForMaskedLM\n",
    "\n",
    "masked_model = AutoModelForMaskedLM.from_pretrained(model_name)\n",
    "masked_model(**input)"
   ]
  }
 ],
 "metadata": {
  "kernelspec": {
   "display_name": "venv",
   "language": "python",
   "name": "python3"
  },
  "language_info": {
   "codemirror_mode": {
    "name": "ipython",
    "version": 3
   },
   "file_extension": ".py",
   "mimetype": "text/x-python",
   "name": "python",
   "nbconvert_exporter": "python",
   "pygments_lexer": "ipython3",
   "version": "3.9.18"
  }
 },
 "nbformat": 4,
 "nbformat_minor": 2
}
